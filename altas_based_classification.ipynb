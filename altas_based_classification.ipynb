{
 "cells": [
  {
   "cell_type": "code",
   "execution_count": 1,
   "metadata": {},
   "outputs": [],
   "source": [
    "# Classification of ASD vs Controls based on different atlases.\n",
    "%matplotlib inline\n",
    "import numpy as np\n",
    "import pandas as pd\n",
    "import matplotlib.pyplot as plt\n",
    "\n",
    "from torch.utils.data import DataLoader\n",
    "from torch import nn\n",
    "import torch.optim as optim\n",
    "from torch.autograd import Variable\n",
    "import torch\n",
    "import torch.nn.functional as F\n",
    "\n",
    "import os.path as osp"
   ]
  },
  {
   "cell_type": "code",
   "execution_count": 2,
   "metadata": {},
   "outputs": [],
   "source": [
    "class AbideData(DataLoader):\n",
    "    \n",
    "    def __init__(self, \n",
    "                 atlas_name='schaefer_100',\n",
    "                 root_dir='/data_local/deeplearning/ABIDE_ML_inputs/', \n",
    "                 data_info_file='data_info.csv', \n",
    "                 nTime_min=150, # Take all subjects that have at least 150 time points\n",
    "                 zscore=False,\n",
    "                 split_ratios = [0.8, 0.1], # Default is 80% for training, 10% validation\n",
    "                 split='train'): \n",
    "        super(AbideData).__init__()\n",
    "        \n",
    "        \n",
    "        # Check if valid atlas name\n",
    "        if atlas_name not in ['AAL', 'HO_cort_maxprob_thr25-2mm', 'schaefer_100', 'schaefer_400']:\n",
    "            raise ValueError('atlas_name not found')\n",
    "        \n",
    "        \n",
    "        # Read the parent CSV file\n",
    "        data_info = pd.read_csv(osp.join(root_dir, data_info_file))\n",
    "        \n",
    "        # Filter the dataframe to contain subjects with nTimes > 150\n",
    "        data_info = data_info[data_info.nTimes > nTime_min]\n",
    "        \n",
    "        \n",
    "        # Split the data according to train/val/test\n",
    "        train_split = int(split_ratios[0] * len(data_info))\n",
    "        val_split = int((split_ratios[0] + split_ratios[1]) * len(data_info))\n",
    "        \n",
    "        if split == 'train':\n",
    "            print(f'loading training data ...')\n",
    "            START_INDEX = 0\n",
    "            END_INDEX = train_split\n",
    "            \n",
    "        if split == 'val':\n",
    "            START_INDEX = train_split\n",
    "            END_INDEX = val_split\n",
    "            \n",
    "        if split == 'test':\n",
    "            print(f'loading testing data ...')\n",
    "            START_INDEX = val_split\n",
    "            END_INDEX = -1\n",
    "        \n",
    "        # Filter the data to include only subjects in the split\n",
    "        data_info = data_info.iloc[START_INDEX:END_INDEX]\n",
    "        \n",
    "        # Determine the nchannels (=nrois) from the data by using the first sample\n",
    "        sample_file = data_info['tc_file'].iloc[0].replace('ATLAS', atlas_name)\n",
    "        nrois = pd.read_csv(sample_file).values.shape[1]\n",
    "        \n",
    "        N_corr_mat = int(nrois*(nrois-1)/2)\n",
    "        # Initialize an np array to store all timecourses and labels\n",
    "        self.total_subjects = len(data_info)\n",
    "        self.tc_data = np.zeros((self.total_subjects, nrois, nTime_min))\n",
    "        self.corr_data = np.zeros((self.total_subjects, N_corr_mat))\n",
    "        labels = np.zeros(self.total_subjects, dtype=int)\n",
    "\n",
    "        \n",
    "        # Load data\n",
    "        \n",
    "        for i, sub_i in enumerate(data_info.index):\n",
    "            \n",
    "            tc_file = data_info['tc_file'].loc[sub_i].replace('ATLAS', atlas_name)\n",
    "            tc_vals = pd.read_csv(tc_file).values.transpose()[:, :nTime_min]\n",
    "\n",
    "            corr_file = data_info['corr_file'].loc[sub_i].replace('ATLAS', atlas_name)\n",
    "            corr_vals = np.load(corr_file)\n",
    "            \n",
    "            if zscore:\n",
    "                tc_vals = (tc_vals - np.mean(tc_vals, axis=1).reshape(-1,1))/np.std(tc_vals, axis=1).reshape(-1,1)\n",
    "            \n",
    "            self.tc_data[i] = tc_vals\n",
    "            self.corr_data[i] = corr_vals\n",
    "            \n",
    "            labels[i] = data_info['DX_GROUP'].loc[sub_i]\n",
    "\n",
    "        # zscore\n",
    "        \n",
    "        \n",
    "            \n",
    "        # 1-hot encode it \n",
    "        self.labels = np.eye(2)[labels]  \n",
    "\n",
    "        \n",
    "    def __len__(self):   \n",
    "        return self.total_subjects\n",
    "        \n",
    "    def __getitem__(self, index):\n",
    "        return self.tc_data[index], self.corr_data[index], self.labels[index]\n",
    "        "
   ]
  },
  {
   "cell_type": "code",
   "execution_count": 3,
   "metadata": {},
   "outputs": [],
   "source": [
    "class Abide1DConvNet(nn.Module):\n",
    "    def __init__(self, nROIS=2):\n",
    "        super(Abide1DConvNet, self).__init__()\n",
    "        \n",
    "        self.conv1 = nn.Conv1d(nROIS, 16, 7)\n",
    "        self.conv2 = nn.Conv1d(16,32, 5)\n",
    "        self.conv3 = nn.Conv1d(32, 64, 5)\n",
    "        self.avg = nn.AdaptiveAvgPool1d((1))\n",
    "        \n",
    "        self.linear1 = nn.Linear(64, 100)\n",
    "        self.linear2 = nn.Linear(100, 2)\n",
    "        \n",
    "    def forward(self, x):\n",
    "        \n",
    "        x = F.relu(self.conv1(x))\n",
    "        x = F.relu(self.conv2(x))\n",
    "        x = F.relu(self.conv3(x))\n",
    "        x = self.avg(x).view(-1, 64)\n",
    "        x = F.relu(self.linear1(x))\n",
    "        x = self.linear2(x)\n",
    "        \n",
    "        return x\n",
    "    "
   ]
  },
  {
   "cell_type": "code",
   "execution_count": 4,
   "metadata": {},
   "outputs": [],
   "source": [
    "class AbideCorrDense(nn.Module):\n",
    "    def __init__(self, corr_dim):\n",
    "        super(AbideCorrDense, self).__init__()\n",
    "        \n",
    "        self.linear1 = nn.Linear(corr_dim, 300)\n",
    "        self.linear2 = nn.Linear(300, 100)\n",
    "        self.linear3 = nn.Linear(100, 20)\n",
    "        self.linear4 = nn.Linear(20, 2)\n",
    "\n",
    "        \n",
    "    def forward(self, x):\n",
    "        \n",
    "        x = F.relu(self.linear1(x))\n",
    "        x = F.relu(self.linear2(x))\n",
    "        x = F.relu(self.linear3(x))\n",
    "        x = F.relu(self.linear4(x))\n",
    "        \n",
    "        return x"
   ]
  },
  {
   "cell_type": "code",
   "execution_count": 5,
   "metadata": {},
   "outputs": [],
   "source": [
    "def validate_model(net, atlas_name, analysis_type, nTime_min=150, criterion=nn.CrossEntropyLoss()):\n",
    "    \n",
    "    val_data = AbideData(atlas_name=atlas_name, nTime_min=nTime_min, split='val')\n",
    "    val_data_loader = DataLoader(val_data, batch_size=256, shuffle=True)\n",
    "    \n",
    "    net.eval()\n",
    "    loss = 0.0\n",
    "    for i, (tc, corr, dx) in enumerate(val_data_loader):\n",
    "\n",
    "            if analysis_type == 'tc':\n",
    "                vals = Variable(tc).type(torch.FloatTensor)\n",
    "            if analysis_type == 'corr':\n",
    "                vals = Variable(corr).type(torch.FloatTensor)\n",
    "\n",
    "            dx = Variable(dx).type(torch.LongTensor)\n",
    "            \n",
    "            # forward pass\n",
    "            output = net(vals)\n",
    "\n",
    "            # calculate loss\n",
    "            loss += criterion(output, torch.max(dx,1)[1])\n",
    "\n",
    "    return loss/len(val_data_loader)"
   ]
  },
  {
   "cell_type": "code",
   "execution_count": 6,
   "metadata": {},
   "outputs": [],
   "source": [
    "def train_network(atlas_name, analysis_type ='tc', nTime_min=150, nepochs=100, verbose=True):\n",
    "    \n",
    "    \n",
    "    train_data = AbideData(atlas_name=atlas_name, nTime_min=nTime_min, split='train')\n",
    "    train_data_loader = DataLoader(train_data, batch_size=128, shuffle=True)\n",
    "    \n",
    "    nrois = train_data.__getitem__(0)[0].shape[0] # Trick to get the nrois (=nchannels)\n",
    "    N_corr = int(nrois*(nrois-1)/2)\n",
    "    \n",
    "    if analysis_type == 'tc':\n",
    "        net = Abide1DConvNet(nROIS=nrois)\n",
    "    if analysis_type == 'corr':\n",
    "        net = AbideCorrDense(corr_dim=N_corr)\n",
    "        \n",
    "    criterion = nn.CrossEntropyLoss()\n",
    "    optimizer = optim.Adam(net.parameters(), lr=.001, weight_decay=0)\n",
    "    \n",
    "    \n",
    "    net.train()\n",
    "    \n",
    "    train_loss = []\n",
    "    val_loss = []\n",
    "    \n",
    "    print(f'Training ...')\n",
    "    for i_epoch in range(nepochs): \n",
    "        \n",
    "        epoch_loss = 0.0\n",
    "        for i, (tc, corr, dx) in enumerate(train_data_loader):\n",
    "\n",
    "            if analysis_type == 'tc':\n",
    "                vals = Variable(tc).type(torch.FloatTensor)\n",
    "            if analysis_type == 'corr':\n",
    "                vals = Variable(corr).type(torch.FloatTensor)\n",
    "            \n",
    "            dx = Variable(dx).type(torch.LongTensor)\n",
    "\n",
    "            # forward pass\n",
    "            output = net(vals)\n",
    "\n",
    "            # calculate loss\n",
    "            loss = criterion(output, torch.max(dx,1)[1])\n",
    "\n",
    "            optimizer.zero_grad()\n",
    "            loss.backward()\n",
    "            optimizer.step()\n",
    "\n",
    "            epoch_loss += loss\n",
    "\n",
    "        epoch_train_loss = epoch_loss/i\n",
    "        epoch_val_loss = validate_model(net, atlas_name, analysis_type, nTime_min=nTime_min, criterion=criterion)\n",
    "        \n",
    "        train_loss.append(epoch_train_loss)\n",
    "        val_loss.append(epoch_val_loss)\n",
    "        \n",
    "        if verbose and i_epoch%1 == 0:\n",
    "            print('Epoch:{} --- Train_loss:{} --- Val_loss:{}'.format(i_epoch, epoch_train_loss, epoch_val_loss))\n",
    "            \n",
    "    return net, train_loss, val_loss"
   ]
  },
  {
   "cell_type": "code",
   "execution_count": 18,
   "metadata": {},
   "outputs": [],
   "source": [
    "def test_model(net, analysis_type, nTime_min=150):\n",
    "    \n",
    "    test_data = AbideData(atlas_name='schaefer_100', nTime_min=nTime_min, split='test')\n",
    "    test_data_loader = DataLoader(test_data, batch_size=16, shuffle=True)\n",
    "    \n",
    "    net.eval()\n",
    "    tot_acc = 0.0\n",
    "    debug_out = []\n",
    "    for i, (tc, corr, dx) in enumerate(test_data_loader):\n",
    "\n",
    "            if analysis_type == 'tc':\n",
    "                vals = Variable(tc).type(torch.FloatTensor)\n",
    "            if analysis_type == 'corr':\n",
    "                vals = Variable(corr).type(torch.FloatTensor)\n",
    "\n",
    "            dx = Variable(dx).type(torch.LongTensor)\n",
    "            \n",
    "            # forward pass\n",
    "            output = net(vals)\n",
    "\n",
    "            debug_out.append(output)\n",
    "            # calculate accuracy\n",
    "            tot_acc += sum((torch.argmax(output,1) == torch.argmax(dx,1)).type(torch.FloatTensor))\n",
    "            \n",
    "    return tot_acc/test_data.__len__(), debug_out"
   ]
  },
  {
   "cell_type": "code",
   "execution_count": 15,
   "metadata": {},
   "outputs": [
    {
     "name": "stdout",
     "output_type": "stream",
     "text": [
      "loading training data ...\n",
      "Training ...\n",
      "Epoch:0 --- Train_loss:0.7587121725082397 --- Val_loss:0.8681589961051941\n",
      "Epoch:1 --- Train_loss:0.7537921667098999 --- Val_loss:0.8949801325798035\n",
      "Epoch:2 --- Train_loss:0.735366702079773 --- Val_loss:0.8199575543403625\n",
      "Epoch:3 --- Train_loss:0.7079612612724304 --- Val_loss:0.8831911683082581\n",
      "Epoch:4 --- Train_loss:0.6774371266365051 --- Val_loss:1.0324667692184448\n"
     ]
    }
   ],
   "source": [
    "#['AAL', 'HO_cort_maxprob_thr25-2mm', 'schaefer_100', 'schaefer_400']\n",
    "trained_net, training_loss, val_loss = train_network(atlas_name='schaefer_100', analysis_type='corr', nepochs=5)"
   ]
  },
  {
   "cell_type": "code",
   "execution_count": 19,
   "metadata": {},
   "outputs": [
    {
     "name": "stdout",
     "output_type": "stream",
     "text": [
      "loading testing data ...\n",
      "Test accuracy: 0.6824324131011963\n"
     ]
    }
   ],
   "source": [
    "acc, dbg = test_model(trained_net, analysis_type='corr', nTime_min=150)\n",
    "print('Test accuracy: {}'.format(acc))"
   ]
  },
  {
   "cell_type": "code",
   "execution_count": 22,
   "metadata": {},
   "outputs": [
    {
     "data": {
      "text/plain": [
       "tensor([[0.0000, 0.9257],\n",
       "        [0.0000, 1.1180],\n",
       "        [0.0000, 0.5016],\n",
       "        [0.0000, 0.4096],\n",
       "        [0.0000, 0.9780],\n",
       "        [0.0000, 0.2949],\n",
       "        [0.0000, 1.1622],\n",
       "        [0.0000, 1.2760],\n",
       "        [0.0000, 0.7625],\n",
       "        [0.0000, 0.6742],\n",
       "        [0.0000, 0.6917],\n",
       "        [0.0000, 0.7941],\n",
       "        [0.0000, 0.8789],\n",
       "        [0.0000, 0.7815],\n",
       "        [0.0000, 1.4575],\n",
       "        [0.0000, 1.6046]], grad_fn=<ReluBackward0>)"
      ]
     },
     "execution_count": 22,
     "metadata": {},
     "output_type": "execute_result"
    }
   ],
   "source": [
    "dbg[0]"
   ]
  },
  {
   "cell_type": "code",
   "execution_count": 14,
   "metadata": {},
   "outputs": [
    {
     "data": {
      "text/plain": [
       "[<matplotlib.lines.Line2D at 0x7fae27a708d0>]"
      ]
     },
     "execution_count": 14,
     "metadata": {},
     "output_type": "execute_result"
    },
    {
     "data": {
      "image/png": "[encoded data removed]",
      "text/plain": [
       "<Figure size 432x288 with 1 Axes>"
      ]
     },
     "metadata": {},
     "output_type": "display_data"
    }
   ],
   "source": [
    "plt.plot(training_loss)\n",
    "plt.plot(val_loss)"
   ]
  },
  {
   "cell_type": "code",
   "execution_count": null,
   "metadata": {},
   "outputs": [],
   "source": [
    "nrois=10\n",
    "nrois*(nrois-1)/2"
   ]
  },
  {
   "cell_type": "code",
   "execution_count": null,
   "metadata": {},
   "outputs": [],
   "source": []
  }
 ],
 "metadata": {
  "kernelspec": {
   "display_name": "Python 3",
   "language": "python",
   "name": "python3"
  },
  "language_info": {
   "codemirror_mode": {
    "name": "ipython",
    "version": 3
   },
   "file_extension": ".py",
   "mimetype": "text/x-python",
   "name": "python",
   "nbconvert_exporter": "python",
   "pygments_lexer": "ipython3",
   "version": "3.6.7"
  }
 },
 "nbformat": 4,
 "nbformat_minor": 2
}

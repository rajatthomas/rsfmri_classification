{
 "cells": [
  {
   "cell_type": "code",
   "execution_count": 1,
   "metadata": {},
   "outputs": [],
   "source": [
    "# Classification of ASD vs Controls based on different atlases.\n",
    "%matplotlib inline\n",
    "import numpy as np\n",
    "import pandas as pd\n",
    "import matplotlib.pyplot as plt\n",
    "\n",
    "from torch.utils.data import DataLoader\n",
    "from torch import nn\n",
    "import torch.optim as optim\n",
    "from torch.autograd import Variable\n",
    "import torch\n",
    "import torch.nn.functional as F\n",
    "\n",
    "import os.path as osp"
   ]
  },
  {
   "cell_type": "code",
   "execution_count": 2,
   "metadata": {},
   "outputs": [],
   "source": [
    "class AbideData(DataLoader):\n",
    "    \n",
    "    def __init__(self, \n",
    "                 atlas_name='schaefer_100',\n",
    "                 root_dir='/data_local/deeplearning/ABIDE_ML_inputs/', \n",
    "                 data_info_file='data_info.csv', \n",
    "                 nTime_min=150, # Take all subjects that have at least 150 time points\n",
    "                 zscore=True,\n",
    "                 split_ratios = [0.8, 0.1], # Default is 80% for training, 10% validation\n",
    "                 split='train'): \n",
    "        super(AbideData).__init__()\n",
    "        \n",
    "        \n",
    "        # Check if valid atlas name\n",
    "        if atlas_name not in ['AAL', 'HO_cort_maxprob_thr25-2mm', 'schaefer_100', 'schaefer_400']:\n",
    "            raise ValueError('atlas_name not found')\n",
    "        \n",
    "        \n",
    "        # Read the parent CSV file\n",
    "        data_info = pd.read_csv(osp.join(root_dir, data_info_file))\n",
    "        \n",
    "        # Filter the dataframe to contain subjects with nTimes > 150\n",
    "        data_info = data_info[data_info.nTimes > nTime_min]\n",
    "        \n",
    "        \n",
    "        # Split the data according to train/val/test\n",
    "        train_split = int(split_ratios[0] * len(data_info))\n",
    "        val_split = int((split_ratios[0] + split_ratios[1]) * len(data_info))\n",
    "        \n",
    "        if split == 'train':\n",
    "            print(f'loading training data ...')\n",
    "            START_INDEX = 0\n",
    "            END_INDEX = train_split\n",
    "            \n",
    "        if split == 'val':\n",
    "            START_INDEX = train_split\n",
    "            END_INDEX = val_split\n",
    "            \n",
    "        if split == 'test':\n",
    "            print(f'loading testing data ...')\n",
    "            START_INDEX = val_split\n",
    "            END_INDEX = -1\n",
    "        \n",
    "        # Filter the data to include only subjects in the split\n",
    "        data_info = data_info.iloc[START_INDEX:END_INDEX]\n",
    "        \n",
    "        # Determine the nchannels (=nrois) from the data by using the first sample\n",
    "        sample_file = data_info['tc_file'].iloc[0].replace('ATLAS', atlas_name)\n",
    "        nrois = pd.read_csv(sample_file).values.shape[1]\n",
    "        \n",
    "        # Initialize an np array to store all timecourses and labels\n",
    "        self.total_subjects = len(data_info)\n",
    "        self.tc_data = np.zeros((self.total_subjects, nrois, nTime_min))\n",
    "        labels = np.zeros(self.total_subjects, dtype=int)\n",
    "\n",
    "        \n",
    "        # Load data\n",
    "        \n",
    "        for i, sub_i in enumerate(data_info.index):\n",
    "            tc_file = data_info['tc_file'].loc[sub_i].replace('ATLAS', atlas_name)\n",
    "            tc_vals = pd.read_csv(tc_file).values.transpose()[:, :nTime_min]\n",
    "\n",
    "            if zscore:\n",
    "                tc_vals = (tc_vals - np.mean(tc_vals, axis=1))/np.std(tc_vals, axis=1)\n",
    "            \n",
    "            self.tc_data[i] = tc_vals\n",
    "            labels[i] = data_info['DX_GROUP'].loc[sub_i]\n",
    "\n",
    "        # zscore\n",
    "        \n",
    "        \n",
    "            \n",
    "        # 1-hot encode it \n",
    "        self.labels = np.eye(2)[labels]  \n",
    "\n",
    "        \n",
    "    def __len__(self):   \n",
    "        return self.total_subjects\n",
    "        \n",
    "    def __getitem__(self, index):\n",
    "        return self.tc_data[index], self.labels[index]\n",
    "        "
   ]
  },
  {
   "cell_type": "code",
   "execution_count": 3,
   "metadata": {},
   "outputs": [],
   "source": [
    "class Abide1DConvNet(nn.Module):\n",
    "    def __init__(self, nROIS=2):\n",
    "        super(Abide1DConvNet, self).__init__()\n",
    "        \n",
    "        self.conv1 = nn.Conv1d(nROIS, 16, 7)\n",
    "        self.conv2 = nn.Conv1d(16,32, 5)\n",
    "        self.conv3 = nn.Conv1d(32, 64, 5)\n",
    "        self.avg = nn.AdaptiveAvgPool1d((1))\n",
    "        \n",
    "        self.linear1 = nn.Linear(64, 100)\n",
    "        self.linear2 = nn.Linear(100, 2)\n",
    "        \n",
    "    def forward(self, x):\n",
    "        \n",
    "        x = F.relu(self.conv1(x))\n",
    "        x = F.relu(self.conv2(x))\n",
    "        x = F.relu(self.conv3(x))\n",
    "        x = self.avg(x).view(-1, 64)\n",
    "        x = F.relu(self.linear1(x))\n",
    "        x = self.linear2(x)\n",
    "        \n",
    "        return x\n",
    "    "
   ]
  },
  {
   "cell_type": "code",
   "execution_count": 4,
   "metadata": {},
   "outputs": [],
   "source": [
    "def validate_model(net, nTime_min=150, criterion=nn.CrossEntropyLoss()):\n",
    "    \n",
    "    val_data = AbideData(atlas_name='schaefer_100', nTime_min=nTime_min, split='val')\n",
    "    val_data_loader = DataLoader(val_data, batch_size=256, shuffle=True)\n",
    "    \n",
    "    net.eval()\n",
    "    loss = 0.0\n",
    "    for i, (tc, dx) in enumerate(val_data_loader):\n",
    "\n",
    "            tc = Variable(tc).type(torch.FloatTensor)\n",
    "            dx = Variable(dx).type(torch.LongTensor)\n",
    "\n",
    "            # forward pass\n",
    "            output = net(tc)\n",
    "\n",
    "            # calculate loss\n",
    "            loss += criterion(output, torch.max(dx,1)[1])\n",
    "\n",
    "    return loss/len(val_data_loader)"
   ]
  },
  {
   "cell_type": "code",
   "execution_count": 5,
   "metadata": {},
   "outputs": [],
   "source": [
    "def train_network(atlas_name, nTime_min=150, nepochs=100, verbose=True):\n",
    "    \n",
    "    \n",
    "    train_data = AbideData(atlas_name='schaefer_100', nTime_min=nTime_min, split='train')\n",
    "    train_data_loader = DataLoader(train_data, batch_size=256, shuffle=True)\n",
    "    \n",
    "    nrois = train_data.__getitem__(0)[0].shape[0] # Trick to get the nrois (=nchannels)\n",
    "    \n",
    "    net = Abide1DConvNet(nROIS=nrois)\n",
    "    \n",
    "    criterion = nn.CrossEntropyLoss()\n",
    "    optimizer = optim.Adam(net.parameters(), lr=.001, weight_decay=0)\n",
    "    \n",
    "    \n",
    "    net.train()\n",
    "    train_loss = []\n",
    "    val_loss = []\n",
    "    \n",
    "    print(f'Training ...')\n",
    "    for i_epoch in range(nepochs):\n",
    "\n",
    "        epoch_loss = 0.0\n",
    "        for i, (tc, dx) in enumerate(train_data_loader):\n",
    "\n",
    "            tc = Variable(tc).type(torch.FloatTensor)\n",
    "            dx = Variable(dx).type(torch.LongTensor)\n",
    "\n",
    "            # forward pass\n",
    "            output = net(tc)\n",
    "\n",
    "            # calculate loss\n",
    "            loss = criterion(output, torch.max(dx,1)[1])\n",
    "\n",
    "            optimizer.zero_grad()\n",
    "            loss.backward()\n",
    "            optimizer.step()\n",
    "\n",
    "            epoch_loss += loss\n",
    "\n",
    "        epoch_train_loss = epoch_loss/i\n",
    "        epoch_val_loss = validate_model(net, nTime_min=nTime_min, criterion=criterion)\n",
    "        \n",
    "        train_loss.append(epoch_train_loss)\n",
    "        val_loss.append(epoch_val_loss)\n",
    "        \n",
    "        if verbose and i_epoch%1 == 0:\n",
    "            print('Epoch:{} --- Train_loss:{} --- Val_loss:{}'.format(i_epoch, epoch_train_loss, epoch_val_loss))\n",
    "            \n",
    "    return net, train_loss, val_loss"
   ]
  },
  {
   "cell_type": "code",
   "execution_count": 6,
   "metadata": {},
   "outputs": [],
   "source": [
    "def test_model(net, nTime_min=150):\n",
    "    \n",
    "    test_data = AbideData(atlas_name='schaefer_100', nTime_min=nTime_min, split='test')\n",
    "    test_data_loader = DataLoader(test_data, batch_size=16, shuffle=True)\n",
    "    \n",
    "    net.eval()\n",
    "    tot_acc = 0.0\n",
    "    for i, (tc, dx) in enumerate(test_data_loader):\n",
    "\n",
    "            tc = Variable(tc).type(torch.FloatTensor)\n",
    "            dx = Variable(dx).type(torch.LongTensor)\n",
    "\n",
    "            # forward pass\n",
    "            output = net(tc)\n",
    "\n",
    "            # calculate accuracy\n",
    "            tot_acc += sum((torch.argmax(output,1) == torch.argmax(dx,1)).type(torch.FloatTensor))\n",
    "            \n",
    "    return tot_acc/test_data.__len__()"
   ]
  },
  {
   "cell_type": "code",
   "execution_count": 16,
   "metadata": {},
   "outputs": [
    {
     "name": "stdout",
     "output_type": "stream",
     "text": [
      "loading training data ...\n",
      "Training ...\n",
      "Epoch:0 --- Train_loss:0.8512394428253174 --- Val_loss:0.8443534970283508\n",
      "Epoch:1 --- Train_loss:0.846590518951416 --- Val_loss:0.8109277486801147\n",
      "Epoch:2 --- Train_loss:0.8437541127204895 --- Val_loss:0.8144645690917969\n",
      "Epoch:3 --- Train_loss:0.8434113264083862 --- Val_loss:0.8321122527122498\n",
      "Epoch:4 --- Train_loss:0.8424456119537354 --- Val_loss:0.8461907505989075\n",
      "Epoch:5 --- Train_loss:0.8408231735229492 --- Val_loss:0.8046872019767761\n",
      "Epoch:6 --- Train_loss:0.8397247195243835 --- Val_loss:0.8519818782806396\n",
      "Epoch:7 --- Train_loss:0.837144136428833 --- Val_loss:0.8188280463218689\n",
      "Epoch:8 --- Train_loss:0.8312973380088806 --- Val_loss:0.8840494751930237\n",
      "Epoch:9 --- Train_loss:0.8254210948944092 --- Val_loss:0.798653244972229\n",
      "Epoch:10 --- Train_loss:0.8099126815795898 --- Val_loss:0.8141206502914429\n",
      "Epoch:11 --- Train_loss:0.7906883955001831 --- Val_loss:0.8922330737113953\n",
      "Epoch:12 --- Train_loss:0.7628902792930603 --- Val_loss:0.7462960481643677\n",
      "Epoch:13 --- Train_loss:0.7392215132713318 --- Val_loss:0.9495630860328674\n",
      "Epoch:14 --- Train_loss:0.7140645384788513 --- Val_loss:0.830234706401825\n",
      "Epoch:15 --- Train_loss:0.6718575358390808 --- Val_loss:0.7710427045822144\n",
      "Epoch:16 --- Train_loss:0.6668616533279419 --- Val_loss:0.8487905263900757\n",
      "Epoch:17 --- Train_loss:0.6401971578598022 --- Val_loss:0.8065451383590698\n",
      "Epoch:18 --- Train_loss:0.586003303527832 --- Val_loss:0.9493988752365112\n",
      "Epoch:19 --- Train_loss:0.5698488354682922 --- Val_loss:0.9052274823188782\n"
     ]
    }
   ],
   "source": [
    "#['AAL', 'HO_cort_maxprob_thr25-2mm', 'schaefer_100', 'schaefer_400']\n",
    "trained_net, training_loss, val_loss = train_network(atlas_name='schaefer_400', nepochs=20)"
   ]
  },
  {
   "cell_type": "code",
   "execution_count": 18,
   "metadata": {},
   "outputs": [
    {
     "name": "stdout",
     "output_type": "stream",
     "text": [
      "loading testing data ...\n",
      "Test accuracy: 0.5675675868988037\n"
     ]
    }
   ],
   "source": [
    "print('Test accuracy: {}'.format(test_model(trained_net, nTime_min=150)))"
   ]
  },
  {
   "cell_type": "code",
   "execution_count": 17,
   "metadata": {},
   "outputs": [
    {
     "data": {
      "text/plain": [
       "[<matplotlib.lines.Line2D at 0x7f793c6a9780>]"
      ]
     },
     "execution_count": 17,
     "metadata": {},
     "output_type": "execute_result"
    },
    {
     "data": {
      "image/png": "[encoded data removed]",
      "text/plain": [
       "<matplotlib.figure.Figure at 0x7f79a4849668>"
      ]
     },
     "metadata": {},
     "output_type": "display_data"
    }
   ],
   "source": [
    "plt.plot(training_loss)\n",
    "plt.plot(val_loss)"
   ]
  },
  {
   "cell_type": "code",
   "execution_count": null,
   "metadata": {},
   "outputs": [],
   "source": []
  }
 ],
 "metadata": {
  "kernelspec": {
   "display_name": "Python 3",
   "language": "python",
   "name": "python3"
  },
  "language_info": {
   "codemirror_mode": {
    "name": "ipython",
    "version": 3
   },
   "file_extension": ".py",
   "mimetype": "text/x-python",
   "name": "python",
   "nbconvert_exporter": "python",
   "pygments_lexer": "ipython3",
   "version": "3.6.3"
  }
 },
 "nbformat": 4,
 "nbformat_minor": 2
}

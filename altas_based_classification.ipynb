{
 "cells": [
  {
   "cell_type": "code",
   "execution_count": 1,
   "metadata": {},
   "outputs": [],
   "source": [
    "# Classification of ASD vs Controls based on different atlases.\n",
    "%matplotlib inline\n",
    "import numpy as np\n",
    "import pandas as pd\n",
    "import matplotlib.pyplot as plt\n",
    "\n",
    "from torch.utils.data import DataLoader\n",
    "from torch import nn\n",
    "import torch.optim as optim\n",
    "from torch.autograd import Variable\n",
    "import torch\n",
    "import torch.nn.functional as F\n",
    "\n",
    "import os.path as osp"
   ]
  },
  {
   "cell_type": "code",
   "execution_count": 2,
   "metadata": {},
   "outputs": [],
   "source": [
    "class AbideData(DataLoader):\n",
    "    \n",
    "    def __init__(self, \n",
    "                 atlas_name='schaefer_100',\n",
    "                 root_dir='/data_local/deeplearning/ABIDE_ML_inputs/', \n",
    "                 data_info_file='data_info.csv', \n",
    "                 nTime_min=150, # Take all subjects that have at least 150 time points\n",
    "                 split_ratios = [0.8, 0.1], # Default is 80% for training, 10% validation\n",
    "                 split='train'): \n",
    "        super(AbideData).__init__()\n",
    "        \n",
    "        \n",
    "        # Check if valid atlas name\n",
    "        if atlas_name not in ['AAL', 'HO_cort_maxprob_thr25-2mm', 'schaefer_100', 'schaefer_400']:\n",
    "            raise ValueError('atlas_name not found')\n",
    "        \n",
    "        \n",
    "        # Read the parent CSV file\n",
    "        data_info = pd.read_csv(osp.join(root_dir, data_info_file))\n",
    "        \n",
    "        # Filter the dataframe to contain subjects with nTimes > 150\n",
    "        data_info = data_info[data_info.nTimes > nTime_min]\n",
    "        \n",
    "        \n",
    "        # Split the data according to train/val/test\n",
    "        train_split = int(split_ratios[0] * len(data_info))\n",
    "        val_split = int((split_ratios[0] + split_ratios[1]) * len(data_info))\n",
    "        \n",
    "        if split == 'train':\n",
    "            print(f'loading training data ...')\n",
    "            START_INDEX = 0\n",
    "            END_INDEX = train_split\n",
    "            \n",
    "        if split == 'val':\n",
    "            START_INDEX = train_split\n",
    "            END_INDEX = val_split\n",
    "            \n",
    "        if split == 'test':\n",
    "            print(f'loading testing data ...')\n",
    "            START_INDEX = val_split\n",
    "            END_INDEX = -1\n",
    "        \n",
    "        # Filter the data to include only subjects in the split\n",
    "        data_info = data_info.iloc[START_INDEX:END_INDEX]\n",
    "        \n",
    "        # Determine the nchannels (=nrois) from the data by using the first sample\n",
    "        sample_file = data_info['tc_file'].iloc[0].replace('ATLAS', atlas_name)\n",
    "        nrois = pd.read_csv(sample_file).values.shape[1]\n",
    "        \n",
    "        # Initialize an np array to store all timecourses and labels\n",
    "        self.total_subjects = len(data_info)\n",
    "        self.tc_data = np.zeros((self.total_subjects, nrois, nTime_min))\n",
    "        labels = np.zeros(self.total_subjects, dtype=int)\n",
    "\n",
    "        \n",
    "        # Load data\n",
    "        \n",
    "        for i, sub_i in enumerate(data_info.index):\n",
    "            tc_file = data_info['tc_file'].loc[sub_i].replace('ATLAS', atlas_name)\n",
    "            self.tc_data[i] = pd.read_csv(tc_file).values.transpose()[:, :nTime_min]\n",
    "            labels[i] = data_info['DX_GROUP'].loc[sub_i]\n",
    "        \n",
    "        # 1-hot encode it \n",
    "        self.labels = np.eye(2)[labels]  \n",
    "\n",
    "        \n",
    "    def __len__(self):   \n",
    "        return self.total_subjects\n",
    "        \n",
    "    def __getitem__(self, index):\n",
    "        return self.tc_data[index], self.labels[index]\n",
    "        "
   ]
  },
  {
   "cell_type": "code",
   "execution_count": 3,
   "metadata": {},
   "outputs": [],
   "source": [
    "class Abide1DConvNet(nn.Module):\n",
    "    def __init__(self, nROIS=2):\n",
    "        super(Abide1DConvNet, self).__init__()\n",
    "        \n",
    "        self.conv1 = nn.Conv1d(nROIS, 16, 7)\n",
    "        self.conv2 = nn.Conv1d(16,32, 5)\n",
    "        self.conv3 = nn.Conv1d(32, 64, 5)\n",
    "        self.avg = nn.AdaptiveAvgPool1d((1))\n",
    "        \n",
    "        self.linear1 = nn.Linear(64, 100)\n",
    "        self.linear2 = nn.Linear(100, 2)\n",
    "        \n",
    "    def forward(self, x):\n",
    "        \n",
    "        x = F.relu(self.conv1(x))\n",
    "        x = F.relu(self.conv2(x))\n",
    "        x = F.relu(self.conv3(x))\n",
    "        x = self.avg(x).view(-1, 64)\n",
    "        x = F.relu(self.linear1(x))\n",
    "        x = self.linear2(x)\n",
    "        \n",
    "        return x\n",
    "    "
   ]
  },
  {
   "cell_type": "code",
   "execution_count": 4,
   "metadata": {},
   "outputs": [],
   "source": [
    "def validate_model(net, nTime_min=150, criterion=nn.CrossEntropyLoss()):\n",
    "    \n",
    "    val_data = AbideData(atlas_name='schaefer_100', nTime_min=nTime_min, split='val')\n",
    "    val_data_loader = DataLoader(val_data, batch_size=256, shuffle=True)\n",
    "    \n",
    "    net.eval()\n",
    "    loss = 0.0\n",
    "    for i, (tc, dx) in enumerate(val_data_loader):\n",
    "\n",
    "            tc = Variable(tc).type(torch.FloatTensor)\n",
    "            dx = Variable(dx).type(torch.LongTensor)\n",
    "\n",
    "            # forward pass\n",
    "            output = net(tc)\n",
    "\n",
    "            # calculate loss\n",
    "            loss += criterion(output, torch.max(dx,1)[1])\n",
    "\n",
    "    return loss/len(val_data_loader)"
   ]
  },
  {
   "cell_type": "code",
   "execution_count": 5,
   "metadata": {},
   "outputs": [],
   "source": [
    "def train_network(atlas_name, nTime_min=150, nepochs=100, verbose=True):\n",
    "    \n",
    "    \n",
    "    train_data = AbideData(atlas_name='schaefer_100', nTime_min=nTime_min, split='train')\n",
    "    train_data_loader = DataLoader(train_data, batch_size=256, shuffle=True)\n",
    "    \n",
    "    nrois = train_data.__getitem__(0)[0].shape[0] # Trick to get the nrois (=nchannels)\n",
    "    \n",
    "    net = Abide1DConvNet(nROIS=nrois)\n",
    "    \n",
    "    criterion = nn.CrossEntropyLoss()\n",
    "    optimizer = optim.Adam(net.parameters(), lr=.001, weight_decay=0)\n",
    "    \n",
    "    \n",
    "    net.train()\n",
    "    train_loss = []\n",
    "    val_loss = []\n",
    "    \n",
    "    print(f'Training ...')\n",
    "    for i_epoch in range(nepochs):\n",
    "\n",
    "        epoch_loss = 0.0\n",
    "        for i, (tc, dx) in enumerate(train_data_loader):\n",
    "\n",
    "            tc = Variable(tc).type(torch.FloatTensor)\n",
    "            dx = Variable(dx).type(torch.LongTensor)\n",
    "\n",
    "            # forward pass\n",
    "            output = net(tc)\n",
    "\n",
    "            # calculate loss\n",
    "            loss = criterion(output, torch.max(dx,1)[1])\n",
    "\n",
    "            optimizer.zero_grad()\n",
    "            loss.backward()\n",
    "            optimizer.step()\n",
    "\n",
    "            epoch_loss += loss\n",
    "\n",
    "        epoch_train_loss = epoch_loss/i\n",
    "        epoch_val_loss = validate_model(net, nTime_min=nTime_min, criterion=criterion)\n",
    "        \n",
    "        train_loss.append(epoch_train_loss)\n",
    "        val_loss.append(epoch_val_loss)\n",
    "        \n",
    "        if verbose and i_epoch%1 == 0:\n",
    "            print('Epoch:{} --- Train_loss:{} --- Val_loss:{}'.format(i_epoch, epoch_train_loss, epoch_val_loss))\n",
    "            \n",
    "    return net, train_loss, val_loss"
   ]
  },
  {
   "cell_type": "code",
   "execution_count": 6,
   "metadata": {},
   "outputs": [],
   "source": [
    "def test_model(net, nTime_min=150):\n",
    "    \n",
    "    test_data = AbideData(atlas_name='schaefer_100', nTime_min=nTime_min, split='test')\n",
    "    test_data_loader = DataLoader(test_data, batch_size=16, shuffle=True)\n",
    "    \n",
    "    net.eval()\n",
    "    tot_acc = 0.0\n",
    "    for i, (tc, dx) in enumerate(test_data_loader):\n",
    "\n",
    "            tc = Variable(tc).type(torch.FloatTensor)\n",
    "            dx = Variable(dx).type(torch.LongTensor)\n",
    "\n",
    "            # forward pass\n",
    "            output = net(tc)\n",
    "\n",
    "            # calculate accuracy\n",
    "            tot_acc += sum((torch.argmax(output,1) == torch.argmax(dx,1)).type(torch.FloatTensor))\n",
    "            \n",
    "    return tot_acc/test_data.__len__()"
   ]
  },
  {
   "cell_type": "code",
   "execution_count": 7,
   "metadata": {},
   "outputs": [
    {
     "name": "stdout",
     "output_type": "stream",
     "text": [
      "loading training data ...\n",
      "Training ...\n",
      "Epoch:0 --- Train_loss:0.8457685112953186 --- Val_loss:0.9035431146621704\n",
      "Epoch:1 --- Train_loss:0.8484019041061401 --- Val_loss:0.7896376848220825\n",
      "Epoch:2 --- Train_loss:0.8428610563278198 --- Val_loss:0.8190823197364807\n",
      "Epoch:3 --- Train_loss:0.8406286835670471 --- Val_loss:0.8516989350318909\n",
      "Epoch:4 --- Train_loss:0.8476665616035461 --- Val_loss:0.8582379817962646\n",
      "Epoch:5 --- Train_loss:0.8426505327224731 --- Val_loss:0.7967947721481323\n",
      "Epoch:6 --- Train_loss:0.8422332406044006 --- Val_loss:0.8331617712974548\n",
      "Epoch:7 --- Train_loss:0.8372585773468018 --- Val_loss:0.8322538733482361\n",
      "Epoch:8 --- Train_loss:0.8346524238586426 --- Val_loss:0.8303934931755066\n",
      "Epoch:9 --- Train_loss:0.8250985145568848 --- Val_loss:0.8447415232658386\n",
      "Epoch:10 --- Train_loss:0.8099749088287354 --- Val_loss:0.882910966873169\n",
      "Epoch:11 --- Train_loss:0.7935828566551208 --- Val_loss:0.8650327324867249\n",
      "Epoch:12 --- Train_loss:0.7754836082458496 --- Val_loss:0.885779082775116\n",
      "Epoch:13 --- Train_loss:0.7543162703514099 --- Val_loss:0.769464373588562\n",
      "Epoch:14 --- Train_loss:0.7397737503051758 --- Val_loss:0.7031717300415039\n",
      "Epoch:15 --- Train_loss:0.7320685386657715 --- Val_loss:0.8244048953056335\n",
      "Epoch:16 --- Train_loss:0.691986083984375 --- Val_loss:1.0214650630950928\n",
      "Epoch:17 --- Train_loss:0.653412401676178 --- Val_loss:0.9731624722480774\n",
      "Epoch:18 --- Train_loss:0.6184796094894409 --- Val_loss:0.9766783714294434\n",
      "Epoch:19 --- Train_loss:0.5893905758857727 --- Val_loss:1.273924469947815\n"
     ]
    }
   ],
   "source": [
    "trained_net, training_loss, val_loss = train_network(atlas_name='schaefer_100', nepochs=20)"
   ]
  },
  {
   "cell_type": "code",
   "execution_count": 8,
   "metadata": {},
   "outputs": [
    {
     "name": "stdout",
     "output_type": "stream",
     "text": [
      "loading testing data ...\n",
      "Test accuracy: 0.5675675868988037\n"
     ]
    }
   ],
   "source": [
    "print('Test accuracy: {}'.format(test_model(trained_net, nTime_min=150)))"
   ]
  },
  {
   "cell_type": "code",
   "execution_count": 9,
   "metadata": {},
   "outputs": [
    {
     "data": {
      "text/plain": [
       "[<matplotlib.lines.Line2D at 0x7f7a4c1d1cf8>]"
      ]
     },
     "execution_count": 9,
     "metadata": {},
     "output_type": "execute_result"
    },
    {
     "data": {
      "image/png": "[encoded data removed]",
      "text/plain": [
       "<matplotlib.figure.Figure at 0x7f7a54150d68>"
      ]
     },
     "metadata": {},
     "output_type": "display_data"
    }
   ],
   "source": [
    "plt.plot(training_loss)\n",
    "plt.plot(val_loss)"
   ]
  },
  {
   "cell_type": "code",
   "execution_count": null,
   "metadata": {},
   "outputs": [],
   "source": []
  }
 ],
 "metadata": {
  "kernelspec": {
   "display_name": "Python 3",
   "language": "python",
   "name": "python3"
  },
  "language_info": {
   "codemirror_mode": {
    "name": "ipython",
    "version": 3
   },
   "file_extension": ".py",
   "mimetype": "text/x-python",
   "name": "python",
   "nbconvert_exporter": "python",
   "pygments_lexer": "ipython3",
   "version": "3.6.3"
  }
 },
 "nbformat": 4,
 "nbformat_minor": 2
}

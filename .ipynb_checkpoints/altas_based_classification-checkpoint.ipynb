{
 "cells": [
  {
   "cell_type": "code",
   "execution_count": 1,
   "metadata": {},
   "outputs": [],
   "source": [
    "import numpy as np\n",
    "import pandas as pd\n",
    "from torch.utils.data import DataLoader\n",
    "from torch import nn\n",
    "import torch.optim as optim\n",
    "from torch.autograd import Variable\n",
    "import torch\n",
    "import torch.nn.functional as F"
   ]
  },
  {
   "cell_type": "code",
   "execution_count": 2,
   "metadata": {},
   "outputs": [],
   "source": [
    "ica_tc_file = './dualreg_mat.npy'\n",
    "pheno_file = './pheno.csv'\n",
    "\n",
    "ica_tc = np.load(ica_tc_file)\n",
    "pheno = pd.read_csv(pheno_file)\n",
    "\n",
    "ic19 = [1,3, 5, 8, 9, 10, 13, 15, 16, 17, 19, 21, 23, 24, 25, 27, 29, 30, 33]\n",
    "\n",
    "ic7 = [5, 8, 13, 16, 17, 24, 29]"
   ]
  },
  {
   "cell_type": "code",
   "execution_count": 3,
   "metadata": {},
   "outputs": [
    {
     "name": "stdout",
     "output_type": "stream",
     "text": [
      "(359, 175, 52)\n",
      "(359, 19)\n"
     ]
    }
   ],
   "source": [
    "print(ica_tc.shape)\n",
    "print(pheno.shape)"
   ]
  },
  {
   "cell_type": "code",
   "execution_count": 4,
   "metadata": {},
   "outputs": [],
   "source": [
    "tc = np.random.randn(5000, 100)\n",
    "tc2 = tc*0.8+0.3*np.random.randn(5000, 100)\n",
    "\n",
    "corrtc = np.zeros((5000,100,2))\n",
    "corrtc[:,:,0] = tc\n",
    "corrtc[:,:,1] = tc2\n",
    "\n",
    "uncorrtc = np.random.randn(5000, 100,2)\n",
    "\n",
    "data = np.vstack([corrtc, uncorrtc])\n",
    "label = np.hstack([np.zeros(5000), np.ones(5000)])\n",
    "\n",
    "idx = np.random.permutation(range(10000))\n",
    "\n",
    "data_shuffle = data[idx]\n",
    "label_shuffle = label[idx].astype('int64')"
   ]
  },
  {
   "cell_type": "code",
   "execution_count": 5,
   "metadata": {},
   "outputs": [],
   "source": [
    "class Abide(DataLoader):\n",
    "    \n",
    "    def __init__(self, data_shuffle, label_shuffle, split='train'): #input_path, label, split='train'):\n",
    "        super(Abide).__init__()\n",
    "        \n",
    "        ica_tc = data_shuffle #np.load(input_path)[:,:,ic7]\n",
    "        dx = label_shuffle # pd.read_csv(label)['DX_GROUP']-1 # in order to make label 0,1 instead of 1,2\n",
    "        dx = np.eye(2)[dx] #.values] # 1-hot encode \n",
    "\n",
    "        split_at = 8000\n",
    "        if split == 'train':\n",
    "            self.ica_tc = ica_tc[:split_at]\n",
    "            self.dx = dx[:split_at]\n",
    "            \n",
    "        if split == 'test':\n",
    "            self.ica_tc = ica_tc[split_at:]\n",
    "            self.dx = dx[split_at:] \n",
    "            \n",
    "        \n",
    "    def __len__(self):   \n",
    "        return len(self.dx)\n",
    "        \n",
    "    def __getitem__(self, index):\n",
    "        return self.ica_tc[index].transpose(), self.dx[index]\n",
    "        "
   ]
  },
  {
   "cell_type": "code",
   "execution_count": 6,
   "metadata": {},
   "outputs": [],
   "source": [
    "class Abide1DConvNet(nn.Module):\n",
    "    def __init__(self, numICs=2):\n",
    "        super(Abide1DConvNet, self).__init__()\n",
    "        \n",
    "        self.conv1 = nn.Conv1d(numICs, 16, 7)\n",
    "        self.conv2 = nn.Conv1d(16,32, 5)\n",
    "        self.conv3 = nn.Conv1d(32, 64, 5)\n",
    "        self.avg = nn.AdaptiveAvgPool1d((1))\n",
    "        \n",
    "        self.linear1 = nn.Linear(64, 100)\n",
    "        self.linear2 = nn.Linear(100, 2)\n",
    "        \n",
    "    def forward(self, x):\n",
    "        \n",
    "        x = F.relu(self.conv1(x))\n",
    "        x = F.relu(self.conv2(x))\n",
    "        x = F.relu(self.conv3(x))\n",
    "        x = self.avg(x).view(-1, 64)\n",
    "        x = F.relu(self.linear1(x))\n",
    "        x = self.linear2(x)\n",
    "        \n",
    "        return x\n",
    "    "
   ]
  },
  {
   "cell_type": "code",
   "execution_count": 7,
   "metadata": {},
   "outputs": [],
   "source": [
    "# train_data = Abide(input_path='./dualreg_mat.npy', label='./pheno.csv', split='train')\n",
    "# test_data = Abide(input_path='./dualreg_mat.npy', label='./pheno.csv', split='test')\n",
    "train_data = Abide(data_shuffle, label_shuffle, split='train')\n",
    "test_data = Abide(data_shuffle, label_shuffle, split='test')"
   ]
  },
  {
   "cell_type": "code",
   "execution_count": 8,
   "metadata": {},
   "outputs": [],
   "source": [
    "train_data_loader = DataLoader(train_data, batch_size=256, shuffle=True)\n",
    "test_data_loader = DataLoader(test_data, batch_size=1, shuffle=True)"
   ]
  },
  {
   "cell_type": "code",
   "execution_count": 9,
   "metadata": {},
   "outputs": [],
   "source": [
    "net = Abide1DConvNet()"
   ]
  },
  {
   "cell_type": "code",
   "execution_count": null,
   "metadata": {
    "scrolled": true
   },
   "outputs": [],
   "source": [
    "criterion = nn.CrossEntropyLoss()\n",
    "optimizer = optim.Adam(net.parameters(), lr=.001, weight_decay=0)\n",
    "nepochs=100\n",
    "\n",
    "net.train()\n",
    "track_loss=[]\n",
    "\n",
    "for i_epoch in range(nepochs):\n",
    "    print(i_epoch)\n",
    "    epoch_loss = 0.0\n",
    "    for i, (ic, dx) in enumerate(train_data_loader):\n",
    "        \n",
    "        ic = Variable(ic).type(torch.FloatTensor)\n",
    "        dx = Variable(dx).type(torch.LongTensor)\n",
    "        \n",
    "        # forward pass\n",
    "        output = net(ic)\n",
    "        \n",
    "        # calculate loss\n",
    "        loss = criterion(output, torch.max(dx,1)[1])\n",
    "        \n",
    "        optimizer.zero_grad()\n",
    "        loss.backward()\n",
    "        optimizer.step()\n",
    "        \n",
    "        epoch_loss += loss\n",
    "        \n",
    "    track_loss.append(epoch_loss/i)\n",
    "    print('epoch loss = {}'.format(epoch_loss))    "
   ]
  },
  {
   "cell_type": "code",
   "execution_count": 10,
   "metadata": {},
   "outputs": [
    {
     "name": "stdout",
     "output_type": "stream",
     "text": [
      "Total accuracy = 0.48750001192092896\n"
     ]
    }
   ],
   "source": [
    "net.eval()\n",
    "acc = 0.0\n",
    "for ic,dx in test_data_loader:\n",
    "    \n",
    "    ic = Variable(ic).type(torch.FloatTensor)\n",
    "    dx = Variable(dx).type(torch.LongTensor)\n",
    "    output = net(ic)\n",
    "    acc_temp = (torch.argmax(output,1) == torch.argmax(dx,1)).type(torch.FloatTensor)\n",
    "    #acc_temp = acc_temp.\n",
    "    acc += sum(acc_temp)\n",
    "\n",
    "print('Total accuracy = {}'.format(acc/2000))"
   ]
  },
  {
   "cell_type": "code",
   "execution_count": null,
   "metadata": {},
   "outputs": [],
   "source": [
    "8000 - 256*31"
   ]
  },
  {
   "cell_type": "code",
   "execution_count": null,
   "metadata": {},
   "outputs": [],
   "source": [
    ".008*8000"
   ]
  },
  {
   "cell_type": "code",
   "execution_count": null,
   "metadata": {},
   "outputs": [],
   "source": []
  }
 ],
 "metadata": {
  "kernelspec": {
   "display_name": "Python 3",
   "language": "python",
   "name": "python3"
  },
  "language_info": {
   "codemirror_mode": {
    "name": "ipython",
    "version": 3
   },
   "file_extension": ".py",
   "mimetype": "text/x-python",
   "name": "python",
   "nbconvert_exporter": "python",
   "pygments_lexer": "ipython3",
   "version": "3.6.3"
  }
 },
 "nbformat": 4,
 "nbformat_minor": 2
}

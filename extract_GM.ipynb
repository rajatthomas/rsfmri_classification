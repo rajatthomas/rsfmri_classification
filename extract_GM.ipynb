{
 "cells": [
  {
   "cell_type": "code",
   "execution_count": 2,
   "metadata": {},
   "outputs": [
    {
     "name": "stderr",
     "output_type": "stream",
     "text": [
      "/data/local/softwares/anaconda3/envs/psycnet/lib/python3.6/site-packages/h5py/__init__.py:36: FutureWarning: Conversion of the second argument of issubdtype from `float` to `np.floating` is deprecated. In future, it will be treated as `np.float64 == np.dtype(float).type`.\n",
      "  from ._conv import register_converters as _register_converters\n",
      "/data/local/softwares/anaconda3/envs/psycnet/lib/python3.6/importlib/_bootstrap.py:219: ImportWarning: can't resolve package from __spec__ or __package__, falling back on __name__ and __path__\n",
      "  return f(*args, **kwds)\n"
     ]
    }
   ],
   "source": [
    "import pandas as pd\n",
    "import numpy as np\n",
    "import os.path as osp\n",
    "import os\n",
    "\n",
    "import nibabel as nib\n",
    "from nilearn import datasets\n",
    "\n",
    "import warnings\n",
    "warnings.filterwarnings(\"ignore\")"
   ]
  },
  {
   "cell_type": "code",
   "execution_count": 3,
   "metadata": {},
   "outputs": [],
   "source": [
    "def get_atlas_info(atlas_name, atlas_dir='/data/rmthomas/nilearn_data'): # HO_cort_maxprob_thr25-2mm\n",
    "\n",
    "    # Choose one of the atlases (add more when necessary)\n",
    "    # 1. AAL\n",
    "    # 2. HO_cort_maxprob_thr25-2mm\n",
    "\n",
    "\n",
    "    # Check if valid atlas name\n",
    "    if atlas_name not in ['AAL', 'HO_cort_maxprob_thr25-2mm', 'schaefer_100', 'schaefer_400']:\n",
    "        raise ValueError('atlas_name not found')\n",
    "\n",
    "    if atlas_name == 'AAL':\n",
    "        dataset = datasets.fetch_atlas_aal(version='SPM12')\n",
    "        atlas_filename = dataset.maps\n",
    "        labels = dataset.labels\n",
    "        indices = dataset.indices\n",
    "        \n",
    "    if atlas_name == 'HO_cort_maxprob_thr25-2mm':\n",
    "        dataset = datasets.fetch_atlas_harvard_oxford('cort-maxprob-thr25-2mm')\n",
    "        atlas_filename = dataset.maps\n",
    "        labels = dataset.labels[1:] # the first element is background\n",
    "        indices = list(range(1,49)) # 1 to 48 regions\n",
    "        \n",
    "    if atlas_name == 'schaefer_100':\n",
    "        atlas_filename = osp.join(atlas_dir,'schaefer/Schaefer2018_100Parcels_17Networks_order_FSLMNI152_2mm.nii')\n",
    "        labels = pd.read_csv(osp.join(atlas_dir, \n",
    "                                           'schaefer/Schaefer2018_100Parcels_17Networks_table.csv'))['label']\n",
    "        indices = pd.read_csv(osp.join(atlas_dir, \n",
    "                                           'schaefer/Schaefer2018_100Parcels_17Networks_table.csv'))['value']\n",
    "        \n",
    "    if atlas_name == 'schaefer_400':\n",
    "        atlas_filename = osp.join(atlas_dir, \n",
    "                                       'schaefer/Schaefer2018_400Parcels_17Networks_order_FSLMNI152_2mm.nii')\n",
    "        labels = pd.read_csv(osp.join(atlas_dir, \n",
    "                                           'schaefer/Schaefer2018_400Parcels_17Networks_table.csv'))['label']\n",
    "        indices = pd.read_csv(osp.join(atlas_dir, \n",
    "                                           'schaefer/Schaefer2018_400Parcels_17Networks_table.csv'))['value']\n",
    "        \n",
    "\n",
    "    if len(labels) != len(indices):\n",
    "        raise ValueError('Labels and indices should be of same size')\n",
    "        \n",
    "    return  labels, indices\n",
    "\n"
   ]
  },
  {
   "cell_type": "code",
   "execution_count": 4,
   "metadata": {},
   "outputs": [],
   "source": [
    "def get_subj_file(sub_id,\n",
    "                  atlas_name,\n",
    "                  root_dir='/data_local/deeplearning/ABIDE_LC/raw/',\n",
    "                 ):\n",
    "    \n",
    "    if atlas_name not in ['AAL', 'HO_cort_maxprob_thr25-2mm', 'schaefer_100', 'schaefer_400']:\n",
    "        raise ValueError('atlas_name not found')\n",
    "\n",
    "    if atlas_name == 'AAL':\n",
    "        filename = f'{sub_id}_aal.nii.gz'\n",
    "        \n",
    "    if atlas_name == 'HO_cort_maxprob_thr25-2mm':\n",
    "        filename = f'{sub_id}_ho_cortical.nii.gz'\n",
    "        \n",
    "    if atlas_name == 'schaefer_100':\n",
    "        filename = f'{sub_id}_schaefer100.nii.gz'\n",
    "        \n",
    "    if atlas_name == 'schaefer_400':\n",
    "        filename = f'{sub_id}_schaefer400.nii.gz'\n",
    "        \n",
    "    \n",
    "    sub_atlas = nib.load(osp.join(root_dir, sub_id, 'atlases', filename)).get_data()\n",
    "    sub_GM = nib.load(osp.join(root_dir, sub_id, 'T1/fast', f'{sub_id}_T1_restore_brain_pve_1.nii.gz' )).get_data()\n",
    "    \n",
    "    return sub_atlas, sub_GM"
   ]
  },
  {
   "cell_type": "code",
   "execution_count": 13,
   "metadata": {},
   "outputs": [],
   "source": [
    "def create_roi_metrics(sub_id, atlas_name, labels, values):\n",
    "                       \n",
    "    # Intialize a data frame\n",
    "    df = pd.DataFrame(np.zeros((len(labels),3)), index=labels, columns=['mean', 'std', 'var'])\n",
    "\n",
    "    # Get subject specific atlas file and GM\n",
    "    subj_atlas, subj_GM = get_subj_file(sub_id, atlas_name)\n",
    "\n",
    "    # Iterate over atlas values\n",
    "    for idx, val in zip(labels, values):\n",
    "\n",
    "        # Create a mask for each value\n",
    "        masked_voxels = ((subj_atlas==val) & (subj_GM>0.0)) # Metrics over all non-zero voxels\n",
    "        subj_GM = subj_GM[masked_voxels]\n",
    "        df['mean'].loc[idx] = subj_GM.mean() \n",
    "        df['std'].loc[idx] = subj_GM.std()\n",
    "        df['var'].loc[idx] = subj_GM.var()\n",
    "\n",
    "    return df "
   ]
  },
  {
   "cell_type": "code",
   "execution_count": 14,
   "metadata": {},
   "outputs": [],
   "source": [
    "def make_GM_files(atlas_name,\n",
    "                  root_dir='/data_local/deeplearning/ABIDE_LC',\n",
    "                  output_dir='/data_local/deeplearning/ABIDE_ML_inputs/',\n",
    "                  subject_list_file='list_2169'):\n",
    "    \n",
    "    sub_ids = np.loadtxt(osp.join(root_dir, subject_list_file), dtype='str')\n",
    "    nsubjects = len(sub_ids)\n",
    "    \n",
    "    # get the atlas roi names and values\n",
    "    labels, values = get_atlas_info(atlas_name=atlas_name)\n",
    "    \n",
    "    for i_sub, sub_id in enumerate(sub_ids):\n",
    "        if i_sub%100 == 0:\n",
    "            print(f'{i_sub+1}/{nsubjects}')\n",
    "        \n",
    "        df = create_roi_metrics(sub_id, atlas_name, labels, values)\n",
    "        subj_dir = osp.join(output_dir, sub_id, 'gray_matter', atlas_name)\n",
    "        \n",
    "        if not osp.exists(subj_dir):\n",
    "            os.makedirs(subj_dir)\n",
    "    \n",
    "        outfile = osp.join(subj_dir, 'gm_metrics.csv')\n",
    "        df.to_csv(outfile)"
   ]
  },
  {
   "cell_type": "code",
   "execution_count": 15,
   "metadata": {},
   "outputs": [
    {
     "name": "stdout",
     "output_type": "stream",
     "text": [
      "1/2169\n"
     ]
    },
    {
     "name": "stderr",
     "output_type": "stream",
     "text": [
      "/data/local/softwares/anaconda3/envs/psycnet/lib/python3.6/site-packages/ipykernel_launcher.py:13: FutureWarning: elementwise comparison failed; returning scalar instead, but in the future will perform elementwise comparison\n",
      "  del sys.path[0]\n",
      "/data/local/softwares/anaconda3/envs/psycnet/lib/python3.6/site-packages/ipykernel_launcher.py:15: RuntimeWarning: Mean of empty slice.\n",
      "  from ipykernel import kernelapp as app\n",
      "/data/rmthomas/.local/lib/python3.6/site-packages/numpy/core/_methods.py:80: RuntimeWarning: invalid value encountered in true_divide\n",
      "  ret = ret.dtype.type(ret / rcount)\n",
      "/data/rmthomas/.local/lib/python3.6/site-packages/numpy/core/_methods.py:135: RuntimeWarning: Degrees of freedom <= 0 for slice\n",
      "  keepdims=keepdims)\n"
     ]
    },
    {
     "name": "stdout",
     "output_type": "stream",
     "text": [
      "101/2169\n",
      "201/2169\n",
      "301/2169\n",
      "401/2169\n",
      "501/2169\n",
      "601/2169\n",
      "701/2169\n",
      "801/2169\n",
      "901/2169\n",
      "1001/2169\n",
      "1101/2169\n",
      "1201/2169\n",
      "1301/2169\n",
      "1401/2169\n",
      "1501/2169\n",
      "1601/2169\n",
      "1701/2169\n",
      "1801/2169\n",
      "1901/2169\n",
      "2001/2169\n",
      "2101/2169\n"
     ]
    },
    {
     "name": "stderr",
     "output_type": "stream",
     "text": [
      "/data/local/softwares/anaconda3/envs/psycnet/lib/python3.6/site-packages/pandas/core/indexing.py:179: SettingWithCopyWarning: \n",
      "A value is trying to be set on a copy of a slice from a DataFrame\n",
      "\n",
      "See the caveats in the documentation: http://pandas.pydata.org/pandas-docs/stable/indexing.html#indexing-view-versus-copy\n",
      "  self._setitem_with_indexer(indexer, value)\n",
      "/data/local/softwares/anaconda3/envs/psycnet/lib/python3.6/site-packages/ipykernel_launcher.py:17: RuntimeWarning: Degrees of freedom <= 0 for slice\n"
     ]
    }
   ],
   "source": [
    "#['AAL', 'schaefer_100', 'HO_cort_maxprob_thr25-2mm', 'schaefer_400']\n",
    "make_GM_files('AAL')"
   ]
  },
  {
   "cell_type": "code",
   "execution_count": null,
   "metadata": {},
   "outputs": [],
   "source": []
  }
 ],
 "metadata": {
  "kernelspec": {
   "display_name": "Python 3",
   "language": "python",
   "name": "python3"
  },
  "language_info": {
   "codemirror_mode": {
    "name": "ipython",
    "version": 3
   },
   "file_extension": ".py",
   "mimetype": "text/x-python",
   "name": "python",
   "nbconvert_exporter": "python",
   "pygments_lexer": "ipython3",
   "version": "3.6.7"
  }
 },
 "nbformat": 4,
 "nbformat_minor": 2
}

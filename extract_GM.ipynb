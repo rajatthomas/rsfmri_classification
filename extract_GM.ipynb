{
 "cells": [
  {
   "cell_type": "code",
   "execution_count": 31,
   "metadata": {},
   "outputs": [],
   "source": [
    "import pandas as pd\n",
    "import numpy as np\n",
    "import os.path as osp\n",
    "\n",
    "import nibabel as nib\n",
    "from nilearn import datasets"
   ]
  },
  {
   "cell_type": "code",
   "execution_count": 52,
   "metadata": {},
   "outputs": [],
   "source": [
    "def get_atlas_info(atlas_name, atlas_dir='/data/rmthomas/nilearn_data'): # HO_cort_maxprob_thr25-2mm\n",
    "\n",
    "    # Choose one of the atlases (add more when necessary)\n",
    "    # 1. AAL\n",
    "    # 2. HO_cort_maxprob_thr25-2mm\n",
    "\n",
    "\n",
    "    # Check if valid atlas name\n",
    "    if atlas_name not in ['AAL', 'HO_cort_maxprob_thr25-2mm', 'schaefer_100', 'schaefer_400']:\n",
    "        raise ValueError('atlas_name not found')\n",
    "\n",
    "    if atlas_name == 'AAL':\n",
    "        dataset = datasets.fetch_atlas_aal(version='SPM12')\n",
    "        atlas_filename = dataset.maps\n",
    "        labels = dataset.labels\n",
    "        indices = dataset.indices\n",
    "        \n",
    "    if atlas_name == 'HO_cort_maxprob_thr25-2mm':\n",
    "        dataset = datasets.fetch_atlas_harvard_oxford('cort-maxprob-thr25-2mm')\n",
    "        atlas_filename = dataset.maps\n",
    "        labels = dataset.labels[1:] # the first element is background\n",
    "        indices = list(range(1,49)) # 1 to 48 regions\n",
    "        \n",
    "    if atlas_name == 'schaefer_100':\n",
    "        atlas_filename = osp.join(atlas_dir,'schaefer/Schaefer2018_100Parcels_17Networks_order_FSLMNI152_2mm.nii')\n",
    "        labels = pd.read_csv(osp.join(atlas_dir, \n",
    "                                           'schaefer/Schaefer2018_100Parcels_17Networks_table.csv'))['label']\n",
    "        indices = pd.read_csv(osp.join(atlas_dir, \n",
    "                                           'schaefer/Schaefer2018_100Parcels_17Networks_table.csv'))['value']\n",
    "        \n",
    "    if atlas_name == 'schaefer_400':\n",
    "        atlas_filename = osp.join(atlas_dir, \n",
    "                                       'schaefer/Schaefer2018_400Parcels_17Networks_order_FSLMNI152_2mm.nii')\n",
    "        labels = pd.read_csv(osp.join(atlas_dir, \n",
    "                                           'schaefer/Schaefer2018_400Parcels_17Networks_table.csv'))['label']\n",
    "        indices = pd.read_csv(osp.join(atlas_dir, \n",
    "                                           'schaefer/Schaefer2018_400Parcels_17Networks_table.csv'))['value']\n",
    "        \n",
    "\n",
    "    if len(labels) != len(indices):\n",
    "        raise ValueError('Labels and indices should be of same size')\n",
    "        \n",
    "    return  labels, indices\n",
    "\n"
   ]
  },
  {
   "cell_type": "code",
   "execution_count": 54,
   "metadata": {},
   "outputs": [],
   "source": [
    "def get_subj_file(sub_id,\n",
    "                  atlas_name,\n",
    "                  root_dir='/data_local/deeplearning/ABIDE_LC/raw/',\n",
    "                 ):\n",
    "    \n",
    "    if atlas_name not in ['AAL', 'HO_cort_maxprob_thr25-2mm', 'schaefer_100', 'schaefer_400']:\n",
    "        raise ValueError('atlas_name not found')\n",
    "\n",
    "    if atlas_name == 'AAL':\n",
    "        filename = f'{sub_id}_aal_nii.gz'\n",
    "        \n",
    "    if atlas_name == 'HO_cort_maxprob_thr25-2mm':\n",
    "        filename = f'{sub_id}_ho_cortical.nii.gz'\n",
    "        \n",
    "    if atlas_name == 'schaefer_100':\n",
    "        filename = f'{sub_id}_schaefer100.nii.gz'\n",
    "        \n",
    "    if atlas_name == 'schaefer_400':\n",
    "        filename = f'{sub_id}_schaefer400.nii.gz'\n",
    "        \n",
    "    \n",
    "    sub_atlas = osp.join(root_dir, sub_id, 'atlases', filename)\n",
    "    sub_GM = osp.join(root_dir, sub_id, 'T1/fast', f'{sub_id}_T1_restore_brain_pve_1.nii.gz' )\n",
    "    \n",
    "    return sub_atlas, sub_GM"
   ]
  },
  {
   "cell_type": "code",
   "execution_count": 20,
   "metadata": {},
   "outputs": [],
   "source": [
    "xx=datasets.fetch_atlas_harvard_oxford('cort-maxprob-thr25-2mm')"
   ]
  },
  {
   "cell_type": "code",
   "execution_count": 32,
   "metadata": {},
   "outputs": [],
   "source": [
    "x=nib.load(xx.maps)"
   ]
  },
  {
   "cell_type": "code",
   "execution_count": 34,
   "metadata": {},
   "outputs": [],
   "source": [
    "v=x.get_data()"
   ]
  },
  {
   "cell_type": "code",
   "execution_count": 43,
   "metadata": {},
   "outputs": [
    {
     "data": {
      "text/plain": [
       "[1,\n",
       " 2,\n",
       " 3,\n",
       " 4,\n",
       " 5,\n",
       " 6,\n",
       " 7,\n",
       " 8,\n",
       " 9,\n",
       " 10,\n",
       " 11,\n",
       " 12,\n",
       " 13,\n",
       " 14,\n",
       " 15,\n",
       " 16,\n",
       " 17,\n",
       " 18,\n",
       " 19,\n",
       " 20,\n",
       " 21,\n",
       " 22,\n",
       " 23,\n",
       " 24,\n",
       " 25,\n",
       " 26,\n",
       " 27,\n",
       " 28,\n",
       " 29,\n",
       " 30,\n",
       " 31,\n",
       " 32,\n",
       " 33,\n",
       " 34,\n",
       " 35,\n",
       " 36,\n",
       " 37,\n",
       " 38,\n",
       " 39,\n",
       " 40,\n",
       " 41,\n",
       " 42,\n",
       " 43,\n",
       " 44,\n",
       " 45,\n",
       " 46,\n",
       " 47,\n",
       " 48]"
      ]
     },
     "execution_count": 43,
     "metadata": {},
     "output_type": "execute_result"
    }
   ],
   "source": [
    "list(range(1,49))"
   ]
  },
  {
   "cell_type": "code",
   "execution_count": null,
   "metadata": {},
   "outputs": [],
   "source": []
  }
 ],
 "metadata": {
  "kernelspec": {
   "display_name": "Python 3",
   "language": "python",
   "name": "python3"
  },
  "language_info": {
   "codemirror_mode": {
    "name": "ipython",
    "version": 3
   },
   "file_extension": ".py",
   "mimetype": "text/x-python",
   "name": "python",
   "nbconvert_exporter": "python",
   "pygments_lexer": "ipython3",
   "version": "3.6.7"
  }
 },
 "nbformat": 4,
 "nbformat_minor": 2
}
